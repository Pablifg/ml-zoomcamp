{
 "cells": [
  {
   "cell_type": "markdown",
   "id": "f50fdac2-7472-41b8-88fd-efa65d09a1d9",
   "metadata": {},
   "source": [
    "## Homework 4"
   ]
  },
  {
   "cell_type": "code",
   "execution_count": 134,
   "id": "9ff4e20c-9b72-4bc0-8390-9cdb70c94d8c",
   "metadata": {},
   "outputs": [
    {
     "data": {
      "text/plain": [
       "<Figure size 640x480 with 0 Axes>"
      ]
     },
     "metadata": {},
     "output_type": "display_data"
    }
   ],
   "source": [
    "%run /home/fer/Documents/personalCourses/ML-Zoomcamp/ml-zoomcamp/utils.py"
   ]
  },
  {
   "cell_type": "code",
   "execution_count": 1,
   "id": "9acddfc0-f41c-4242-9872-8e1d6c73e2d7",
   "metadata": {},
   "outputs": [],
   "source": [
    "import numpy as np\n",
    "import pandas as pd\n",
    "import matplotlib.pyplot as plt\n",
    "import seaborn as sns\n",
    "%matplotlib inline\n",
    "\n",
    "import warnings\n",
    "warnings.filterwarnings(\"ignore\")"
   ]
  },
  {
   "cell_type": "code",
   "execution_count": 86,
   "id": "2f0fe843-4952-401f-b790-e8186ff3b090",
   "metadata": {},
   "outputs": [],
   "source": [
    "from sklearn.model_selection import train_test_split\n",
    "from sklearn.model_selection import KFold\n",
    "from sklearn.feature_extraction import DictVectorizer\n",
    "from sklearn.linear_model import LogisticRegression"
   ]
  },
  {
   "cell_type": "code",
   "execution_count": 3,
   "id": "aa0567b4-b857-4de2-88e6-1796d0f5cf9f",
   "metadata": {},
   "outputs": [],
   "source": [
    "from sklearn.metrics import auc\n",
    "from sklearn.metrics import roc_auc_score\n",
    "from sklearn.metrics import roc_curve"
   ]
  },
  {
   "cell_type": "code",
   "execution_count": 4,
   "id": "94bcbbf8-3f62-43c8-8298-7a82d1884ac0",
   "metadata": {},
   "outputs": [],
   "source": [
    "raw_df = pd.read_csv('https://raw.githubusercontent.com/alexeygrigorev/mlbookcamp-code/master/chapter-02-car-price/data.csv')\n",
    "\n",
    "raw_df.columns = raw_df.columns.str.lower().str.replace(' ', '_')\n",
    "\n",
    "categorical_columns = list(raw_df.dtypes[raw_df.dtypes == 'object'].index)\n",
    "\n",
    "for c in categorical_columns:\n",
    "    raw_df[c] = raw_df[c].str.lower().str.replace(' ', '_')\n",
    "\n"
   ]
  },
  {
   "cell_type": "code",
   "execution_count": 5,
   "id": "f86ef4cf-35c2-4c67-bab4-ecc415610ddc",
   "metadata": {},
   "outputs": [],
   "source": [
    "columns_use = [\n",
    "    'make', 'model', 'year', 'engine_hp', \n",
    "    'engine_cylinders', 'transmission_type', \n",
    "    'vehicle_style', 'highway_mpg', \n",
    "    'city_mpg', 'msrp'\n",
    "]"
   ]
  },
  {
   "cell_type": "code",
   "execution_count": 6,
   "id": "c7f7c5a8-1bc6-4cf6-b261-00694a55df2c",
   "metadata": {},
   "outputs": [],
   "source": [
    "# Working with dataframe without raw_df\n",
    "df = raw_df.copy()"
   ]
  },
  {
   "cell_type": "markdown",
   "id": "88215424-d0f0-474b-b3c5-e6eadaeb670f",
   "metadata": {},
   "source": [
    "### Data "
   ]
  },
  {
   "cell_type": "markdown",
   "id": "897bcbd8-ba1d-42f5-a99b-73e9b7ef388c",
   "metadata": {},
   "source": [
    "- Keep only the columns above\n",
    "- Lowercase the column names and replace spaces with underscores\n",
    "- Fill the missing values with 0\n",
    "- Make the price binary (1 if above the average, 0 otherwise) - this will be our target variable above_average"
   ]
  },
  {
   "cell_type": "code",
   "execution_count": 7,
   "id": "74d4edbf-d1df-4dca-a68f-e23270e24a17",
   "metadata": {},
   "outputs": [],
   "source": [
    "df = df[columns_use]"
   ]
  },
  {
   "cell_type": "code",
   "execution_count": 8,
   "id": "8e30f534-fed4-45c5-99fc-2811ef8960ca",
   "metadata": {},
   "outputs": [
    {
     "name": "stdout",
     "output_type": "stream",
     "text": [
      "<class 'pandas.core.frame.DataFrame'>\n",
      "RangeIndex: 11914 entries, 0 to 11913\n",
      "Data columns (total 10 columns):\n",
      " #   Column             Non-Null Count  Dtype  \n",
      "---  ------             --------------  -----  \n",
      " 0   make               11914 non-null  object \n",
      " 1   model              11914 non-null  object \n",
      " 2   year               11914 non-null  int64  \n",
      " 3   engine_hp          11845 non-null  float64\n",
      " 4   engine_cylinders   11884 non-null  float64\n",
      " 5   transmission_type  11914 non-null  object \n",
      " 6   vehicle_style      11914 non-null  object \n",
      " 7   highway_mpg        11914 non-null  int64  \n",
      " 8   city_mpg           11914 non-null  int64  \n",
      " 9   msrp               11914 non-null  int64  \n",
      "dtypes: float64(2), int64(4), object(4)\n",
      "memory usage: 930.9+ KB\n"
     ]
    }
   ],
   "source": [
    "df.info()"
   ]
  },
  {
   "cell_type": "code",
   "execution_count": 9,
   "id": "bc459389-bb22-484e-b5cd-1aa391154734",
   "metadata": {},
   "outputs": [
    {
     "data": {
      "text/plain": [
       "make                  0\n",
       "model                 0\n",
       "year                  0\n",
       "engine_hp            69\n",
       "engine_cylinders     30\n",
       "transmission_type     0\n",
       "vehicle_style         0\n",
       "highway_mpg           0\n",
       "city_mpg              0\n",
       "msrp                  0\n",
       "dtype: int64"
      ]
     },
     "execution_count": 9,
     "metadata": {},
     "output_type": "execute_result"
    }
   ],
   "source": [
    "# Missing values\n",
    "df.isnull().sum()"
   ]
  },
  {
   "cell_type": "code",
   "execution_count": 10,
   "id": "74f80647-2956-47f8-aebf-7c8564b63e84",
   "metadata": {},
   "outputs": [],
   "source": [
    "df[[\"engine_hp\", \"engine_cylinders\"]] = df[[\"engine_hp\", \"engine_cylinders\"]].fillna(0)"
   ]
  },
  {
   "cell_type": "code",
   "execution_count": 11,
   "id": "8ccce728-76bc-45f3-bcea-734e679a7ea5",
   "metadata": {},
   "outputs": [],
   "source": [
    "# MAKE PRICE BINARY\n",
    "above_average = [ 1 if item > df.msrp.mean() else 0 for item in df.msrp ]\n",
    "msrp_original = df[\"msrp\"]\n",
    "df[\"msrp\"] = above_average"
   ]
  },
  {
   "cell_type": "code",
   "execution_count": 12,
   "id": "7df22210-f515-4794-8ad9-dee63add5b30",
   "metadata": {},
   "outputs": [
    {
     "data": {
      "text/html": [
       "<div>\n",
       "<style scoped>\n",
       "    .dataframe tbody tr th:only-of-type {\n",
       "        vertical-align: middle;\n",
       "    }\n",
       "\n",
       "    .dataframe tbody tr th {\n",
       "        vertical-align: top;\n",
       "    }\n",
       "\n",
       "    .dataframe thead th {\n",
       "        text-align: right;\n",
       "    }\n",
       "</style>\n",
       "<table border=\"1\" class=\"dataframe\">\n",
       "  <thead>\n",
       "    <tr style=\"text-align: right;\">\n",
       "      <th></th>\n",
       "      <th>make</th>\n",
       "      <th>model</th>\n",
       "      <th>year</th>\n",
       "      <th>engine_hp</th>\n",
       "      <th>engine_cylinders</th>\n",
       "      <th>transmission_type</th>\n",
       "      <th>vehicle_style</th>\n",
       "      <th>highway_mpg</th>\n",
       "      <th>city_mpg</th>\n",
       "      <th>msrp</th>\n",
       "    </tr>\n",
       "  </thead>\n",
       "  <tbody>\n",
       "    <tr>\n",
       "      <th>0</th>\n",
       "      <td>bmw</td>\n",
       "      <td>1_series_m</td>\n",
       "      <td>2011</td>\n",
       "      <td>335.0</td>\n",
       "      <td>6.0</td>\n",
       "      <td>manual</td>\n",
       "      <td>coupe</td>\n",
       "      <td>26</td>\n",
       "      <td>19</td>\n",
       "      <td>1</td>\n",
       "    </tr>\n",
       "    <tr>\n",
       "      <th>1</th>\n",
       "      <td>bmw</td>\n",
       "      <td>1_series</td>\n",
       "      <td>2011</td>\n",
       "      <td>300.0</td>\n",
       "      <td>6.0</td>\n",
       "      <td>manual</td>\n",
       "      <td>convertible</td>\n",
       "      <td>28</td>\n",
       "      <td>19</td>\n",
       "      <td>1</td>\n",
       "    </tr>\n",
       "    <tr>\n",
       "      <th>2</th>\n",
       "      <td>bmw</td>\n",
       "      <td>1_series</td>\n",
       "      <td>2011</td>\n",
       "      <td>300.0</td>\n",
       "      <td>6.0</td>\n",
       "      <td>manual</td>\n",
       "      <td>coupe</td>\n",
       "      <td>28</td>\n",
       "      <td>20</td>\n",
       "      <td>0</td>\n",
       "    </tr>\n",
       "    <tr>\n",
       "      <th>3</th>\n",
       "      <td>bmw</td>\n",
       "      <td>1_series</td>\n",
       "      <td>2011</td>\n",
       "      <td>230.0</td>\n",
       "      <td>6.0</td>\n",
       "      <td>manual</td>\n",
       "      <td>coupe</td>\n",
       "      <td>28</td>\n",
       "      <td>18</td>\n",
       "      <td>0</td>\n",
       "    </tr>\n",
       "    <tr>\n",
       "      <th>4</th>\n",
       "      <td>bmw</td>\n",
       "      <td>1_series</td>\n",
       "      <td>2011</td>\n",
       "      <td>230.0</td>\n",
       "      <td>6.0</td>\n",
       "      <td>manual</td>\n",
       "      <td>convertible</td>\n",
       "      <td>28</td>\n",
       "      <td>18</td>\n",
       "      <td>0</td>\n",
       "    </tr>\n",
       "  </tbody>\n",
       "</table>\n",
       "</div>"
      ],
      "text/plain": [
       "  make       model  year  engine_hp  engine_cylinders transmission_type  \\\n",
       "0  bmw  1_series_m  2011      335.0               6.0            manual   \n",
       "1  bmw    1_series  2011      300.0               6.0            manual   \n",
       "2  bmw    1_series  2011      300.0               6.0            manual   \n",
       "3  bmw    1_series  2011      230.0               6.0            manual   \n",
       "4  bmw    1_series  2011      230.0               6.0            manual   \n",
       "\n",
       "  vehicle_style  highway_mpg  city_mpg  msrp  \n",
       "0         coupe           26        19     1  \n",
       "1   convertible           28        19     1  \n",
       "2         coupe           28        20     0  \n",
       "3         coupe           28        18     0  \n",
       "4   convertible           28        18     0  "
      ]
     },
     "execution_count": 12,
     "metadata": {},
     "output_type": "execute_result"
    }
   ],
   "source": [
    "df.head()"
   ]
  },
  {
   "cell_type": "markdown",
   "id": "4c5821b6-28c2-455b-bb06-438c4e8804e8",
   "metadata": {},
   "source": [
    "**Split the data into: train/validation/test 60%/20%/20%**"
   ]
  },
  {
   "cell_type": "code",
   "execution_count": 13,
   "id": "80a40b79-e3d6-489b-8c5c-10ca29315cc1",
   "metadata": {},
   "outputs": [],
   "source": [
    "# Full_Train and test\n",
    "df_full_train, df_test = train_test_split(df, test_size=0.2, random_state=1)\n",
    "\n",
    "# train and validation\n",
    "df_train, df_val = train_test_split(df_full_train, test_size=0.25, random_state=1)"
   ]
  },
  {
   "cell_type": "code",
   "execution_count": 14,
   "id": "b2c6ec58-818d-41df-a4f0-20aa9eec621a",
   "metadata": {},
   "outputs": [],
   "source": [
    "# Shuffing indices and getting \"y\" variables\n",
    "df_train = df_train.reset_index(drop=True)\n",
    "df_val = df_val.reset_index(drop=True)\n",
    "df_test = df_test.reset_index(drop=True)"
   ]
  },
  {
   "cell_type": "code",
   "execution_count": 15,
   "id": "a8aa1d0d-cc1e-4958-b014-80307be4da50",
   "metadata": {},
   "outputs": [],
   "source": [
    "y_train = df_train.msrp.values\n",
    "y_val = df_val.msrp.values\n",
    "y_test = df_test.msrp.values"
   ]
  },
  {
   "cell_type": "code",
   "execution_count": 16,
   "id": "5052547e-1c17-4939-8b15-b8d11bd962eb",
   "metadata": {},
   "outputs": [],
   "source": [
    "del df_train[\"msrp\"]\n",
    "del df_val[\"msrp\"]\n",
    "del df_test[\"msrp\"]"
   ]
  },
  {
   "cell_type": "markdown",
   "id": "b8bdec15-93d3-4c63-a03f-9ac319109f33",
   "metadata": {},
   "source": [
    "### Q1: ROC AUC feature importance"
   ]
  },
  {
   "cell_type": "code",
   "execution_count": 17,
   "id": "3c9af955-5ed1-4e81-8f55-a57d2a77f0cf",
   "metadata": {},
   "outputs": [
    {
     "data": {
      "text/plain": [
       "['year', 'engine_hp', 'engine_cylinders', 'highway_mpg', 'city_mpg']"
      ]
     },
     "execution_count": 17,
     "metadata": {},
     "output_type": "execute_result"
    }
   ],
   "source": [
    "# Numerical variable\n",
    "numerical_columns = list(df_train.dtypes[df_train.dtypes != 'object'].index)\n",
    "numerical_columns"
   ]
  },
  {
   "cell_type": "code",
   "execution_count": 18,
   "id": "3d75d738-45e2-4376-869d-9b686816af94",
   "metadata": {},
   "outputs": [
    {
     "name": "stdout",
     "output_type": "stream",
     "text": [
      "year\n",
      "\t ROC AUC Score: 0.6876\n",
      "\n",
      "engine_hp\n",
      "\t ROC AUC Score: 0.9171\n",
      "\n",
      "engine_cylinders\n",
      "\t ROC AUC Score: 0.7661\n",
      "\n",
      "highway_mpg\n",
      "\t ROC AUC Score: 0.6331\n",
      "\n",
      "city_mpg\n",
      "\t ROC AUC Score: 0.6734\n",
      "\n"
     ]
    }
   ],
   "source": [
    "for col in numerical_columns:\n",
    "    score = roc_auc_score(y_train, df_train[col])\n",
    "\n",
    "    # AUC < 0.5\n",
    "    if score < 0.5:\n",
    "        score = roc_auc_score(y_train, -df_train[col])\n",
    "    \n",
    "    print(col)\n",
    "    print(\"\\t ROC AUC Score: %.4f\\n\" %(score))\n",
    "    pass"
   ]
  },
  {
   "cell_type": "markdown",
   "id": "eb60c803-656b-4445-b703-3daac0c22aec",
   "metadata": {},
   "source": [
    "The highest AUC is in the variable: \"engine_hp\"\n"
   ]
  },
  {
   "cell_type": "code",
   "execution_count": 19,
   "id": "07e1e030-5c56-41ee-aa6c-5d759f835dc0",
   "metadata": {},
   "outputs": [
    {
     "data": {
      "image/png": "[encoded data removed]",
      "text/plain": [
       "<Figure size 500x500 with 1 Axes>"
      ]
     },
     "metadata": {},
     "output_type": "display_data"
    }
   ],
   "source": [
    "# Plotting the 2 most highest auc\n",
    "fpr, tpr, _ = roc_curve(y_train, df_train.engine_hp)\n",
    "\n",
    "plt.figure(figsize=(5,5))\n",
    "\n",
    "plt.plot(fpr, tpr, label=\"engine_hp\")\n",
    "plt.plot([0, 1], [0,1], label=\"random\", linestyle=\"--\")\n",
    "\n",
    "fpr, tpr, _ = roc_curve(y_train, df_train.engine_cylinders)\n",
    "plt.plot(fpr, tpr, label=\"engine_cylinders\")\n",
    "\n",
    "plt.legend()\n",
    "plt.xlabel(\"FPR\")\n",
    "plt.ylabel(\"TPR\")\n",
    "plt.title(\"TPR vs FPR\")\n",
    "plt.show()"
   ]
  },
  {
   "cell_type": "markdown",
   "id": "f21276d9-6063-4bae-a757-461a2083cdee",
   "metadata": {},
   "source": [
    "Here, we can validate that \"engine_hp\" is the better model for this question, for train dataset"
   ]
  },
  {
   "cell_type": "markdown",
   "id": "cb47ad12-8da8-4a0b-922f-b070abfccbda",
   "metadata": {},
   "source": [
    "### Q2: Training the model"
   ]
  },
  {
   "cell_type": "code",
   "execution_count": 29,
   "id": "a1dfffb7-cd73-431b-a96c-e43dd1f9f03c",
   "metadata": {},
   "outputs": [
    {
     "data": {
      "text/html": [
       "<style>#sk-container-id-3 {color: black;}#sk-container-id-3 pre{padding: 0;}#sk-container-id-3 div.sk-toggleable {background-color: white;}#sk-container-id-3 label.sk-toggleable__label {cursor: pointer;display: block;width: 100%;margin-bottom: 0;padding: 0.3em;box-sizing: border-box;text-align: center;}#sk-container-id-3 label.sk-toggleable__label-arrow:before {content: \"▸\";float: left;margin-right: 0.25em;color: #696969;}#sk-container-id-3 label.sk-toggleable__label-arrow:hover:before {color: black;}#sk-container-id-3 div.sk-estimator:hover label.sk-toggleable__label-arrow:before {color: black;}#sk-container-id-3 div.sk-toggleable__content {max-height: 0;max-width: 0;overflow: hidden;text-align: left;background-color: #f0f8ff;}#sk-container-id-3 div.sk-toggleable__content pre {margin: 0.2em;color: black;border-radius: 0.25em;background-color: #f0f8ff;}#sk-container-id-3 input.sk-toggleable__control:checked~div.sk-toggleable__content {max-height: 200px;max-width: 100%;overflow: auto;}#sk-container-id-3 input.sk-toggleable__control:checked~label.sk-toggleable__label-arrow:before {content: \"▾\";}#sk-container-id-3 div.sk-estimator input.sk-toggleable__control:checked~label.sk-toggleable__label {background-color: #d4ebff;}#sk-container-id-3 div.sk-label input.sk-toggleable__control:checked~label.sk-toggleable__label {background-color: #d4ebff;}#sk-container-id-3 input.sk-hidden--visually {border: 0;clip: rect(1px 1px 1px 1px);clip: rect(1px, 1px, 1px, 1px);height: 1px;margin: -1px;overflow: hidden;padding: 0;position: absolute;width: 1px;}#sk-container-id-3 div.sk-estimator {font-family: monospace;background-color: #f0f8ff;border: 1px dotted black;border-radius: 0.25em;box-sizing: border-box;margin-bottom: 0.5em;}#sk-container-id-3 div.sk-estimator:hover {background-color: #d4ebff;}#sk-container-id-3 div.sk-parallel-item::after {content: \"\";width: 100%;border-bottom: 1px solid gray;flex-grow: 1;}#sk-container-id-3 div.sk-label:hover label.sk-toggleable__label {background-color: #d4ebff;}#sk-container-id-3 div.sk-serial::before {content: \"\";position: absolute;border-left: 1px solid gray;box-sizing: border-box;top: 0;bottom: 0;left: 50%;z-index: 0;}#sk-container-id-3 div.sk-serial {display: flex;flex-direction: column;align-items: center;background-color: white;padding-right: 0.2em;padding-left: 0.2em;position: relative;}#sk-container-id-3 div.sk-item {position: relative;z-index: 1;}#sk-container-id-3 div.sk-parallel {display: flex;align-items: stretch;justify-content: center;background-color: white;position: relative;}#sk-container-id-3 div.sk-item::before, #sk-container-id-3 div.sk-parallel-item::before {content: \"\";position: absolute;border-left: 1px solid gray;box-sizing: border-box;top: 0;bottom: 0;left: 50%;z-index: -1;}#sk-container-id-3 div.sk-parallel-item {display: flex;flex-direction: column;z-index: 1;position: relative;background-color: white;}#sk-container-id-3 div.sk-parallel-item:first-child::after {align-self: flex-end;width: 50%;}#sk-container-id-3 div.sk-parallel-item:last-child::after {align-self: flex-start;width: 50%;}#sk-container-id-3 div.sk-parallel-item:only-child::after {width: 0;}#sk-container-id-3 div.sk-dashed-wrapped {border: 1px dashed gray;margin: 0 0.4em 0.5em 0.4em;box-sizing: border-box;padding-bottom: 0.4em;background-color: white;}#sk-container-id-3 div.sk-label label {font-family: monospace;font-weight: bold;display: inline-block;line-height: 1.2em;}#sk-container-id-3 div.sk-label-container {text-align: center;}#sk-container-id-3 div.sk-container {/* jupyter's `normalize.less` sets `[hidden] { display: none; }` but bootstrap.min.css set `[hidden] { display: none !important; }` so we also need the `!important` here to be able to override the default hidden behavior on the sphinx rendered scikit-learn.org. See: https://github.com/scikit-learn/scikit-learn/issues/21755 */display: inline-block !important;position: relative;}#sk-container-id-3 div.sk-text-repr-fallback {display: none;}</style><div id=\"sk-container-id-3\" class=\"sk-top-container\"><div class=\"sk-text-repr-fallback\"><pre>LogisticRegression(max_iter=1000, solver=&#x27;liblinear&#x27;)</pre><b>In a Jupyter environment, please rerun this cell to show the HTML representation or trust the notebook. <br />On GitHub, the HTML representation is unable to render, please try loading this page with nbviewer.org.</b></div><div class=\"sk-container\" hidden><div class=\"sk-item\"><div class=\"sk-estimator sk-toggleable\"><input class=\"sk-toggleable__control sk-hidden--visually\" id=\"sk-estimator-id-3\" type=\"checkbox\" checked><label for=\"sk-estimator-id-3\" class=\"sk-toggleable__label sk-toggleable__label-arrow\">LogisticRegression</label><div class=\"sk-toggleable__content\"><pre>LogisticRegression(max_iter=1000, solver=&#x27;liblinear&#x27;)</pre></div></div></div></div></div>"
      ],
      "text/plain": [
       "LogisticRegression(max_iter=1000, solver='liblinear')"
      ]
     },
     "execution_count": 29,
     "metadata": {},
     "output_type": "execute_result"
    }
   ],
   "source": [
    "dv = DictVectorizer(sparse=False)\n",
    "\n",
    "train_dict = df_train.to_dict(orient='records')\n",
    "X_train = dv.fit_transform(train_dict)\n",
    "\n",
    "model = LogisticRegression(solver='liblinear', C=1.0, max_iter=1000)\n",
    "model.fit(X_train, y_train)"
   ]
  },
  {
   "cell_type": "code",
   "execution_count": 30,
   "id": "89c1c2ac-1442-4339-8822-67719dfa36e6",
   "metadata": {},
   "outputs": [],
   "source": [
    "val_dict = df_val.to_dict(orient='records')\n",
    "X_val = dv.transform(val_dict)\n",
    "\n",
    "y_pred = model.predict_proba(X_val)[:,1]"
   ]
  },
  {
   "cell_type": "code",
   "execution_count": 31,
   "id": "086c9e27-6fd1-4574-8043-a280642b2f74",
   "metadata": {},
   "outputs": [],
   "source": [
    "auc = roc_auc_score(y_val, y_pred)"
   ]
  },
  {
   "cell_type": "code",
   "execution_count": 32,
   "id": "412914d6-57a1-4e72-90b4-faa980ba8a6e",
   "metadata": {},
   "outputs": [
    {
     "name": "stdout",
     "output_type": "stream",
     "text": [
      "The AUC of this model on validation dataset is:  0.976576055523424\n"
     ]
    }
   ],
   "source": [
    "print(\"The AUC of this model on validation dataset is: \", auc)"
   ]
  },
  {
   "cell_type": "markdown",
   "id": "490fb086-07e6-469d-8d1d-8a3c08e5d97c",
   "metadata": {},
   "source": [
    "### Q3: Precision and Recall"
   ]
  },
  {
   "cell_type": "markdown",
   "id": "4b37a662-5ad5-4c3b-8862-d7bb264eaa47",
   "metadata": {},
   "source": [
    "- Precision: $P=\\frac{TP}{TP+FP}$\n",
    "- Recall/TPR: $R=\\frac{TP}{TP + FN}$"
   ]
  },
  {
   "cell_type": "code",
   "execution_count": 44,
   "id": "22f7e719-d01e-4393-8fb8-e4cd46f2b4fb",
   "metadata": {},
   "outputs": [],
   "source": [
    "thresholds = np.linspace(0.0, 1.0, 101)\n",
    "\n",
    "scores = []\n",
    "\n",
    "for t in thresholds:\n",
    "    actual_positive = (y_val == 1)\n",
    "    actual_negative = (y_val == 0)\n",
    "\n",
    "    predict_positive = (y_pred >= t)\n",
    "    predict_negative = (y_pred < t)\n",
    "\n",
    "    tp = (predict_positive & actual_positive).sum()\n",
    "    tn = (predict_negative & actual_negative).sum()\n",
    "    fp = (predict_positive & actual_negative).sum()\n",
    "    fn = (predict_negative & actual_positive).sum()\n",
    "\n",
    "    scores.append((t, tp, fp, fn, tn))\n",
    "\n",
    "columns = [\"threshold\", \"tp\", \"fp\", \"fn\", \"tn\"]\n",
    "df_scores = pd.DataFrame(scores, columns=columns)\n",
    "\n",
    "# Compute precision and recall\n",
    "df_scores[\"precision\"] = df_scores.tp / (df_scores.tp + df_scores.fp)\n",
    "df_scores[\"recall\"] = df_scores.tp / (df_scores.tp + df_scores.fn)"
   ]
  },
  {
   "cell_type": "code",
   "execution_count": 45,
   "id": "6ad7ef2d-4e42-460a-afd3-7af9d7ee9c1a",
   "metadata": {},
   "outputs": [
    {
     "data": {
      "text/html": [
       "<div>\n",
       "<style scoped>\n",
       "    .dataframe tbody tr th:only-of-type {\n",
       "        vertical-align: middle;\n",
       "    }\n",
       "\n",
       "    .dataframe tbody tr th {\n",
       "        vertical-align: top;\n",
       "    }\n",
       "\n",
       "    .dataframe thead th {\n",
       "        text-align: right;\n",
       "    }\n",
       "</style>\n",
       "<table border=\"1\" class=\"dataframe\">\n",
       "  <thead>\n",
       "    <tr style=\"text-align: right;\">\n",
       "      <th></th>\n",
       "      <th>threshold</th>\n",
       "      <th>tp</th>\n",
       "      <th>fp</th>\n",
       "      <th>fn</th>\n",
       "      <th>tn</th>\n",
       "      <th>precision</th>\n",
       "      <th>recall</th>\n",
       "    </tr>\n",
       "  </thead>\n",
       "  <tbody>\n",
       "    <tr>\n",
       "      <th>0</th>\n",
       "      <td>0.0</td>\n",
       "      <td>654</td>\n",
       "      <td>1729</td>\n",
       "      <td>0</td>\n",
       "      <td>0</td>\n",
       "      <td>0.274444</td>\n",
       "      <td>1.000000</td>\n",
       "    </tr>\n",
       "    <tr>\n",
       "      <th>10</th>\n",
       "      <td>0.1</td>\n",
       "      <td>643</td>\n",
       "      <td>345</td>\n",
       "      <td>11</td>\n",
       "      <td>1384</td>\n",
       "      <td>0.650810</td>\n",
       "      <td>0.983180</td>\n",
       "    </tr>\n",
       "    <tr>\n",
       "      <th>20</th>\n",
       "      <td>0.2</td>\n",
       "      <td>622</td>\n",
       "      <td>218</td>\n",
       "      <td>32</td>\n",
       "      <td>1511</td>\n",
       "      <td>0.740476</td>\n",
       "      <td>0.951070</td>\n",
       "    </tr>\n",
       "    <tr>\n",
       "      <th>30</th>\n",
       "      <td>0.3</td>\n",
       "      <td>606</td>\n",
       "      <td>159</td>\n",
       "      <td>48</td>\n",
       "      <td>1570</td>\n",
       "      <td>0.792157</td>\n",
       "      <td>0.926606</td>\n",
       "    </tr>\n",
       "    <tr>\n",
       "      <th>40</th>\n",
       "      <td>0.4</td>\n",
       "      <td>588</td>\n",
       "      <td>109</td>\n",
       "      <td>66</td>\n",
       "      <td>1620</td>\n",
       "      <td>0.843615</td>\n",
       "      <td>0.899083</td>\n",
       "    </tr>\n",
       "    <tr>\n",
       "      <th>50</th>\n",
       "      <td>0.5</td>\n",
       "      <td>567</td>\n",
       "      <td>76</td>\n",
       "      <td>87</td>\n",
       "      <td>1653</td>\n",
       "      <td>0.881804</td>\n",
       "      <td>0.866972</td>\n",
       "    </tr>\n",
       "    <tr>\n",
       "      <th>60</th>\n",
       "      <td>0.6</td>\n",
       "      <td>522</td>\n",
       "      <td>49</td>\n",
       "      <td>132</td>\n",
       "      <td>1680</td>\n",
       "      <td>0.914186</td>\n",
       "      <td>0.798165</td>\n",
       "    </tr>\n",
       "    <tr>\n",
       "      <th>70</th>\n",
       "      <td>0.7</td>\n",
       "      <td>490</td>\n",
       "      <td>36</td>\n",
       "      <td>164</td>\n",
       "      <td>1693</td>\n",
       "      <td>0.931559</td>\n",
       "      <td>0.749235</td>\n",
       "    </tr>\n",
       "    <tr>\n",
       "      <th>80</th>\n",
       "      <td>0.8</td>\n",
       "      <td>440</td>\n",
       "      <td>17</td>\n",
       "      <td>214</td>\n",
       "      <td>1712</td>\n",
       "      <td>0.962801</td>\n",
       "      <td>0.672783</td>\n",
       "    </tr>\n",
       "    <tr>\n",
       "      <th>90</th>\n",
       "      <td>0.9</td>\n",
       "      <td>347</td>\n",
       "      <td>4</td>\n",
       "      <td>307</td>\n",
       "      <td>1725</td>\n",
       "      <td>0.988604</td>\n",
       "      <td>0.530581</td>\n",
       "    </tr>\n",
       "    <tr>\n",
       "      <th>100</th>\n",
       "      <td>1.0</td>\n",
       "      <td>0</td>\n",
       "      <td>0</td>\n",
       "      <td>654</td>\n",
       "      <td>1729</td>\n",
       "      <td>NaN</td>\n",
       "      <td>0.000000</td>\n",
       "    </tr>\n",
       "  </tbody>\n",
       "</table>\n",
       "</div>"
      ],
      "text/plain": [
       "     threshold   tp    fp   fn    tn  precision    recall\n",
       "0          0.0  654  1729    0     0   0.274444  1.000000\n",
       "10         0.1  643   345   11  1384   0.650810  0.983180\n",
       "20         0.2  622   218   32  1511   0.740476  0.951070\n",
       "30         0.3  606   159   48  1570   0.792157  0.926606\n",
       "40         0.4  588   109   66  1620   0.843615  0.899083\n",
       "50         0.5  567    76   87  1653   0.881804  0.866972\n",
       "60         0.6  522    49  132  1680   0.914186  0.798165\n",
       "70         0.7  490    36  164  1693   0.931559  0.749235\n",
       "80         0.8  440    17  214  1712   0.962801  0.672783\n",
       "90         0.9  347     4  307  1725   0.988604  0.530581\n",
       "100        1.0    0     0  654  1729        NaN  0.000000"
      ]
     },
     "execution_count": 45,
     "metadata": {},
     "output_type": "execute_result"
    }
   ],
   "source": [
    "df_scores[::10]"
   ]
  },
  {
   "cell_type": "code",
   "execution_count": 46,
   "id": "00037841-961d-4cf1-bc0b-2dbdc6453a5e",
   "metadata": {},
   "outputs": [
    {
     "data": {
      "image/png": "[encoded data removed]",
      "text/plain": [
       "<Figure size 640x480 with 1 Axes>"
      ]
     },
     "metadata": {},
     "output_type": "display_data"
    }
   ],
   "source": [
    "# Plot Precision and Recall\n",
    "plt.plot(df_scores.threshold, df_scores.recall, c=\"red\", label=\"Recall\")\n",
    "plt.plot(df_scores.threshold, df_scores.precision, c=\"orange\", label=\"Precision\")\n",
    "plt.legend()\n",
    "plt.title(\"Recall, Precision vs Threshold\")\n",
    "plt.xlabel(\"Threshold\")\n",
    "plt.show()"
   ]
  },
  {
   "cell_type": "code",
   "execution_count": 61,
   "id": "09f65ee8-002a-4c4f-89bd-4c38aa3dc388",
   "metadata": {},
   "outputs": [
    {
     "data": {
      "text/html": [
       "<div>\n",
       "<style scoped>\n",
       "    .dataframe tbody tr th:only-of-type {\n",
       "        vertical-align: middle;\n",
       "    }\n",
       "\n",
       "    .dataframe tbody tr th {\n",
       "        vertical-align: top;\n",
       "    }\n",
       "\n",
       "    .dataframe thead th {\n",
       "        text-align: right;\n",
       "    }\n",
       "</style>\n",
       "<table border=\"1\" class=\"dataframe\">\n",
       "  <thead>\n",
       "    <tr style=\"text-align: right;\">\n",
       "      <th></th>\n",
       "      <th>threshold</th>\n",
       "      <th>tp</th>\n",
       "      <th>fp</th>\n",
       "      <th>fn</th>\n",
       "      <th>tn</th>\n",
       "      <th>precision</th>\n",
       "      <th>recall</th>\n",
       "    </tr>\n",
       "  </thead>\n",
       "  <tbody>\n",
       "    <tr>\n",
       "      <th>48</th>\n",
       "      <td>0.48</td>\n",
       "      <td>570</td>\n",
       "      <td>87</td>\n",
       "      <td>84</td>\n",
       "      <td>1642</td>\n",
       "      <td>0.86758</td>\n",
       "      <td>0.87156</td>\n",
       "    </tr>\n",
       "  </tbody>\n",
       "</table>\n",
       "</div>"
      ],
      "text/plain": [
       "    threshold   tp  fp  fn    tn  precision   recall\n",
       "48       0.48  570  87  84  1642    0.86758  0.87156"
      ]
     },
     "execution_count": 61,
     "metadata": {},
     "output_type": "execute_result"
    }
   ],
   "source": [
    "intersection =  df_scores[(np.round(df_scores.precision, 2) == np.round(df_scores.recall, 2))]\n",
    "intersection"
   ]
  },
  {
   "cell_type": "markdown",
   "id": "b53d292e-3bd3-45d4-8d42-ed67b174460f",
   "metadata": {},
   "source": [
    "The intersect between Precision and Recall is the threshold: 0.48"
   ]
  },
  {
   "cell_type": "markdown",
   "id": "4d403f92-1a64-4f17-b757-1ec84b9149c8",
   "metadata": {},
   "source": [
    "### Q4: F1 Score"
   ]
  },
  {
   "cell_type": "markdown",
   "id": "4edbba28-250b-4aff-8c29-fe1920e92cee",
   "metadata": {},
   "source": [
    "Precision and recall are conflicting - when one grows, the other goes down. That's why they are often combined into the F1 score - a metrics that takes into account both\n",
    "$$F_1 = 2 \\cdot \\cfrac{P \\cdot R}{P + R}$$"
   ]
  },
  {
   "cell_type": "code",
   "execution_count": 82,
   "id": "5aebad7b-f830-4c76-b786-7ff630e4171d",
   "metadata": {},
   "outputs": [],
   "source": [
    "df_scores[\"f1\"] = 2 * (df_scores.precision * df_scores.recall) / (df_scores.precision + df_scores.recall)\n"
   ]
  },
  {
   "cell_type": "code",
   "execution_count": 123,
   "id": "259adab6-5ef5-474e-aab6-05801b8bc522",
   "metadata": {},
   "outputs": [
    {
     "data": {
      "text/plain": [
       "threshold       0.500000\n",
       "tp            567.000000\n",
       "fp             76.000000\n",
       "fn             87.000000\n",
       "tn           1653.000000\n",
       "precision       0.881804\n",
       "recall          0.866972\n",
       "f1              0.874325\n",
       "Name: 50, dtype: float64"
      ]
     },
     "execution_count": 123,
     "metadata": {},
     "output_type": "execute_result"
    }
   ],
   "source": [
    "df_scores.loc[df_scores.f1.argmax()]"
   ]
  },
  {
   "cell_type": "code",
   "execution_count": 128,
   "id": "9ccd8e6c-81a2-4022-9970-bd0f8288ad79",
   "metadata": {},
   "outputs": [
    {
     "data": {
      "image/png": "[encoded data removed]",
      "text/plain": [
       "<Figure size 1000x500 with 1 Axes>"
      ]
     },
     "metadata": {},
     "output_type": "display_data"
    }
   ],
   "source": [
    "plt.figure(figsize=(10, 5))\n",
    "\n",
    "plt.plot(df_scores.threshold, df_scores.f1)\n",
    "plt.vlines(0.5, 0.45, 0.88, color='grey', linestyle='--', alpha=0.5)\n",
    "\n",
    "plt.xticks(np.linspace(0, 1, 11))\n",
    "plt.show()"
   ]
  },
  {
   "cell_type": "markdown",
   "id": "b97ed4c7-49ae-451d-8eb5-858ff05d8552",
   "metadata": {},
   "source": [
    "### Q5: 5-Fold CV / k-Folds"
   ]
  },
  {
   "cell_type": "code",
   "execution_count": 87,
   "id": "42f658f0-a636-40ed-ba68-e92ea8d7577d",
   "metadata": {},
   "outputs": [],
   "source": [
    "from tqdm.auto import tqdm"
   ]
  },
  {
   "cell_type": "code",
   "execution_count": 100,
   "id": "53cfd76f-60cb-48a7-87d9-d15f3a746b1d",
   "metadata": {},
   "outputs": [
    {
     "data": {
      "text/html": [
       "<div>\n",
       "<style scoped>\n",
       "    .dataframe tbody tr th:only-of-type {\n",
       "        vertical-align: middle;\n",
       "    }\n",
       "\n",
       "    .dataframe tbody tr th {\n",
       "        vertical-align: top;\n",
       "    }\n",
       "\n",
       "    .dataframe thead th {\n",
       "        text-align: right;\n",
       "    }\n",
       "</style>\n",
       "<table border=\"1\" class=\"dataframe\">\n",
       "  <thead>\n",
       "    <tr style=\"text-align: right;\">\n",
       "      <th></th>\n",
       "      <th>make</th>\n",
       "      <th>model</th>\n",
       "      <th>year</th>\n",
       "      <th>engine_hp</th>\n",
       "      <th>engine_cylinders</th>\n",
       "      <th>transmission_type</th>\n",
       "      <th>vehicle_style</th>\n",
       "      <th>highway_mpg</th>\n",
       "      <th>city_mpg</th>\n",
       "      <th>msrp</th>\n",
       "    </tr>\n",
       "  </thead>\n",
       "  <tbody>\n",
       "    <tr>\n",
       "      <th>2711</th>\n",
       "      <td>mercedes-benz</td>\n",
       "      <td>clk-class</td>\n",
       "      <td>2007</td>\n",
       "      <td>382.0</td>\n",
       "      <td>8.0</td>\n",
       "      <td>automatic</td>\n",
       "      <td>coupe</td>\n",
       "      <td>22</td>\n",
       "      <td>15</td>\n",
       "      <td>1</td>\n",
       "    </tr>\n",
       "    <tr>\n",
       "      <th>333</th>\n",
       "      <td>nissan</td>\n",
       "      <td>370z</td>\n",
       "      <td>2016</td>\n",
       "      <td>332.0</td>\n",
       "      <td>6.0</td>\n",
       "      <td>manual</td>\n",
       "      <td>coupe</td>\n",
       "      <td>26</td>\n",
       "      <td>18</td>\n",
       "      <td>0</td>\n",
       "    </tr>\n",
       "    <tr>\n",
       "      <th>9377</th>\n",
       "      <td>gmc</td>\n",
       "      <td>sierra_1500</td>\n",
       "      <td>2017</td>\n",
       "      <td>285.0</td>\n",
       "      <td>6.0</td>\n",
       "      <td>automatic</td>\n",
       "      <td>extended_cab_pickup</td>\n",
       "      <td>24</td>\n",
       "      <td>18</td>\n",
       "      <td>0</td>\n",
       "    </tr>\n",
       "    <tr>\n",
       "      <th>939</th>\n",
       "      <td>porsche</td>\n",
       "      <td>911</td>\n",
       "      <td>2016</td>\n",
       "      <td>350.0</td>\n",
       "      <td>6.0</td>\n",
       "      <td>manual</td>\n",
       "      <td>convertible</td>\n",
       "      <td>26</td>\n",
       "      <td>19</td>\n",
       "      <td>1</td>\n",
       "    </tr>\n",
       "    <tr>\n",
       "      <th>5675</th>\n",
       "      <td>volkswagen</td>\n",
       "      <td>gti</td>\n",
       "      <td>2013</td>\n",
       "      <td>200.0</td>\n",
       "      <td>4.0</td>\n",
       "      <td>manual</td>\n",
       "      <td>4dr_hatchback</td>\n",
       "      <td>31</td>\n",
       "      <td>21</td>\n",
       "      <td>0</td>\n",
       "    </tr>\n",
       "    <tr>\n",
       "      <th>...</th>\n",
       "      <td>...</td>\n",
       "      <td>...</td>\n",
       "      <td>...</td>\n",
       "      <td>...</td>\n",
       "      <td>...</td>\n",
       "      <td>...</td>\n",
       "      <td>...</td>\n",
       "      <td>...</td>\n",
       "      <td>...</td>\n",
       "      <td>...</td>\n",
       "    </tr>\n",
       "    <tr>\n",
       "      <th>7813</th>\n",
       "      <td>audi</td>\n",
       "      <td>q5</td>\n",
       "      <td>2016</td>\n",
       "      <td>272.0</td>\n",
       "      <td>6.0</td>\n",
       "      <td>automatic</td>\n",
       "      <td>4dr_suv</td>\n",
       "      <td>26</td>\n",
       "      <td>18</td>\n",
       "      <td>1</td>\n",
       "    </tr>\n",
       "    <tr>\n",
       "      <th>10955</th>\n",
       "      <td>toyota</td>\n",
       "      <td>tundra</td>\n",
       "      <td>2015</td>\n",
       "      <td>381.0</td>\n",
       "      <td>8.0</td>\n",
       "      <td>automatic</td>\n",
       "      <td>crew_cab_pickup</td>\n",
       "      <td>17</td>\n",
       "      <td>13</td>\n",
       "      <td>1</td>\n",
       "    </tr>\n",
       "    <tr>\n",
       "      <th>905</th>\n",
       "      <td>saab</td>\n",
       "      <td>900</td>\n",
       "      <td>1997</td>\n",
       "      <td>150.0</td>\n",
       "      <td>4.0</td>\n",
       "      <td>manual</td>\n",
       "      <td>4dr_hatchback</td>\n",
       "      <td>26</td>\n",
       "      <td>18</td>\n",
       "      <td>0</td>\n",
       "    </tr>\n",
       "    <tr>\n",
       "      <th>5192</th>\n",
       "      <td>pontiac</td>\n",
       "      <td>g6</td>\n",
       "      <td>2009</td>\n",
       "      <td>164.0</td>\n",
       "      <td>4.0</td>\n",
       "      <td>automatic</td>\n",
       "      <td>coupe</td>\n",
       "      <td>33</td>\n",
       "      <td>22</td>\n",
       "      <td>0</td>\n",
       "    </tr>\n",
       "    <tr>\n",
       "      <th>235</th>\n",
       "      <td>chrysler</td>\n",
       "      <td>300m</td>\n",
       "      <td>2003</td>\n",
       "      <td>255.0</td>\n",
       "      <td>6.0</td>\n",
       "      <td>automatic</td>\n",
       "      <td>sedan</td>\n",
       "      <td>25</td>\n",
       "      <td>16</td>\n",
       "      <td>0</td>\n",
       "    </tr>\n",
       "  </tbody>\n",
       "</table>\n",
       "<p>9531 rows × 10 columns</p>\n",
       "</div>"
      ],
      "text/plain": [
       "                make        model  year  engine_hp  engine_cylinders  \\\n",
       "2711   mercedes-benz    clk-class  2007      382.0               8.0   \n",
       "333           nissan         370z  2016      332.0               6.0   \n",
       "9377             gmc  sierra_1500  2017      285.0               6.0   \n",
       "939          porsche          911  2016      350.0               6.0   \n",
       "5675      volkswagen          gti  2013      200.0               4.0   \n",
       "...              ...          ...   ...        ...               ...   \n",
       "7813            audi           q5  2016      272.0               6.0   \n",
       "10955         toyota       tundra  2015      381.0               8.0   \n",
       "905             saab          900  1997      150.0               4.0   \n",
       "5192         pontiac           g6  2009      164.0               4.0   \n",
       "235         chrysler         300m  2003      255.0               6.0   \n",
       "\n",
       "      transmission_type        vehicle_style  highway_mpg  city_mpg  msrp  \n",
       "2711          automatic                coupe           22        15     1  \n",
       "333              manual                coupe           26        18     0  \n",
       "9377          automatic  extended_cab_pickup           24        18     0  \n",
       "939              manual          convertible           26        19     1  \n",
       "5675             manual        4dr_hatchback           31        21     0  \n",
       "...                 ...                  ...          ...       ...   ...  \n",
       "7813          automatic              4dr_suv           26        18     1  \n",
       "10955         automatic      crew_cab_pickup           17        13     1  \n",
       "905              manual        4dr_hatchback           26        18     0  \n",
       "5192          automatic                coupe           33        22     0  \n",
       "235           automatic                sedan           25        16     0  \n",
       "\n",
       "[9531 rows x 10 columns]"
      ]
     },
     "execution_count": 100,
     "metadata": {},
     "output_type": "execute_result"
    }
   ],
   "source": [
    "df_full_train"
   ]
  },
  {
   "cell_type": "code",
   "execution_count": 139,
   "id": "b9200d73-9a3b-4fae-9b18-17fbb813b3a7",
   "metadata": {},
   "outputs": [],
   "source": [
    "kfold = KFold(n_splits=5, shuffle=True, random_state=1)\n",
    "    \n",
    "scores = []\n",
    "\n",
    "for train_idx, val_idx in kfold.split(df_full_train):\n",
    "    df_train = df_full_train.iloc[train_idx]\n",
    "    df_val = df_full_train.iloc[val_idx]\n",
    "\n",
    "    y_train = df_train.msrp.values\n",
    "    y_val = df_val.msrp.values\n",
    "\n",
    "    del df_train[\"msrp\"]\n",
    "    del df_val[\"msrp\"]\n",
    "    \n",
    "    dv, model = train(df_train, y_train)\n",
    "    y_pred = predict(df_val, dv, model)\n",
    "\n",
    "    auc = roc_auc_score(y_val, y_pred)\n",
    "    scores.append(auc)\n"
   ]
  },
  {
   "cell_type": "code",
   "execution_count": 140,
   "id": "90829be0-c74b-476e-a57b-ced5b7b7ed2a",
   "metadata": {},
   "outputs": [
    {
     "name": "stdout",
     "output_type": "stream",
     "text": [
      "0.980 +- 0.002\n"
     ]
    }
   ],
   "source": [
    "print(\"%.3f +- %.3f\" % (np.mean(scores), np.std(scores)))"
   ]
  },
  {
   "cell_type": "markdown",
   "id": "76326069-54d1-4980-9cd3-ce0c0d23f2c6",
   "metadata": {},
   "source": [
    "### Q6: Hyperparameter Tuning"
   ]
  },
  {
   "cell_type": "code",
   "execution_count": null,
   "id": "7196b7a3-4965-42ef-9f21-748f171f822c",
   "metadata": {},
   "outputs": [],
   "source": []
  },
  {
   "cell_type": "code",
   "execution_count": 24,
   "id": "a71dfebc-8a7b-4d10-8772-f5a1a55f87b3",
   "metadata": {},
   "outputs": [],
   "source": [
    "#df.totalcharges = pd.to_numeric(df.totalcharges, errors='coerce')\n",
    "#df.totalcharges = df.totalcharges.fillna(0)\n",
    "\n",
    "#df.churn = (df.churn == 'yes').astype(int)"
   ]
  },
  {
   "cell_type": "code",
   "execution_count": null,
   "id": "6579a7ea-a84a-4da6-bb2a-a1d649f133a9",
   "metadata": {},
   "outputs": [],
   "source": []
  }
 ],
 "metadata": {
  "kernelspec": {
   "display_name": "Python 3 (ipykernel)",
   "language": "python",
   "name": "python3"
  },
  "language_info": {
   "codemirror_mode": {
    "name": "ipython",
    "version": 3
   },
   "file_extension": ".py",
   "mimetype": "text/x-python",
   "name": "python",
   "nbconvert_exporter": "python",
   "pygments_lexer": "ipython3",
   "version": "3.9.18"
  }
 },
 "nbformat": 4,
 "nbformat_minor": 5
}
